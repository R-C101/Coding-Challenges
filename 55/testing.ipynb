{
 "cells": [
  {
   "cell_type": "markdown",
   "metadata": {},
   "source": [
    "## STEP 1\n"
   ]
  },
  {
   "cell_type": "code",
   "execution_count": 6,
   "metadata": {},
   "outputs": [
    {
     "name": "stdout",
     "output_type": "stream",
     "text": [
      "00000000: 0046 0069 006c 0065 0020 0031 0020 0063 006f 006e 0074 0065 006e 0074 0073 000a File 1 contents.\n",
      "\n",
      "\n",
      "00000000: 0046 0069 006c 0065 0020 0032 0020 0063 006f 006e 0074 0065 006e 0074 0073 000a File 2 contents.\n",
      "\n",
      "\n",
      "00000000: 0046 0069 006c 0065 0020 0033 0020 0063 006f 006e 0074 0065 006e 0074 0073 000a File 3 contents.\n",
      "\n",
      "\n"
     ]
    }
   ],
   "source": [
    "import tarfile\n",
    "\n",
    "def dump_tar_as_hex(tar_file_path):\n",
    "    with tarfile.open(tar_file_path, 'r') as tar:\n",
    "        for member in tar.getmembers():\n",
    "        \n",
    "            with tar.extractfile(member) as file:\n",
    "                data = file.read()\n",
    "                offset = 0\n",
    "                while data:\n",
    "                    chunk = data[:16]\n",
    "                    hex_str = ' '.join(f'{byte:04x}' for byte in chunk)\n",
    "                    text_str = ''.join(chr(byte) if 32 <= byte <= 126 else '.' for byte in chunk)\n",
    "                    print(f'{offset:08x}: {hex_str.ljust(48)} {text_str}')\n",
    "                    data = data[16:]\n",
    "                    offset += 16\n",
    "            print('\\n')\n",
    "\n",
    "\n",
    "dump_tar_as_hex('files.tar')\n"
   ]
  },
  {
   "cell_type": "markdown",
   "metadata": {},
   "source": [
    "## STEP 2 ( little endian just means reverse ordering)"
   ]
  },
  {
   "cell_type": "code",
   "execution_count": 26,
   "metadata": {},
   "outputs": [
    {
     "name": "stdout",
     "output_type": "stream",
     "text": [
      "00000000: 0046 0069 006c 0065                              File\n",
      "00000004: 0020 0031 0020 0063                               1 c\n",
      "00000008: 006f 006e 0074 0065                              onte\n",
      "0000000c: 006e 0074 0073 000a                              nts.\n",
      "00000000: 0046 0069 006c 0065                              File\n",
      "00000004: 0020 0032 0020 0063                               2 c\n",
      "00000008: 006f 006e 0074 0065                              onte\n",
      "0000000c: 006e 0074 0073 000a                              nts.\n",
      "00000000: 0046 0069 006c 0065                              File\n",
      "00000004: 0020 0033 0020 0063                               3 c\n",
      "00000008: 006f 006e 0074 0065                              onte\n",
      "0000000c: 006e 0074 0073 000a                              nts.\n"
     ]
    }
   ],
   "source": [
    "def dump_tar_as_hex(tar_file_path, little_endian=False, group_size=2):\n",
    "    with tarfile.open(tar_file_path, 'r') as tar:\n",
    "        for member in tar.getmembers():\n",
    "            \n",
    "            with tar.extractfile(member) as file:\n",
    "                data = file.read()\n",
    "                offset = 0\n",
    "                while data:\n",
    "                    chunk = data[:group_size * 2]\n",
    "                    hex_str = ' '.join(f'{byte:04x}' for byte in chunk)\n",
    "                    text_str = ''.join(chr(byte) if 32 <= byte <= 126 else '.' for byte in chunk)\n",
    "                    if little_endian:\n",
    "                        chunk = chunk[::-1]\n",
    "                    print(f'{offset:08x}: {hex_str.ljust(48)} {text_str}')\n",
    "                    data = data[group_size * 2:]\n",
    "                    offset += group_size * 2\n",
    "            \n",
    "\n",
    "# Example usage:\n",
    "dump_tar_as_hex('files.tar', group_size=2)\n",
    "\n",
    "\n"
   ]
  },
  {
   "cell_type": "code",
   "execution_count": 28,
   "metadata": {},
   "outputs": [
    {
     "name": "stdout",
     "output_type": "stream",
     "text": [
      "Dumping contents of file1.txt as hex (with seek):\n",
      "00000000: 46 69 6c 65 20 31 20 63 6f 6e 74 65 6e 74 73 0a File 1 contents.\n",
      "\n",
      "\n",
      "Dumping contents of file2.txt as hex (with seek):\n",
      "00000000: 46 69 6c 65 20 32 20 63 6f 6e 74 65 6e 74 73 0a File 2 contents.\n",
      "\n",
      "\n",
      "Dumping contents of file3.txt as hex (with seek):\n",
      "00000000: 46 69 6c 65 20 33 20 63 6f 6e 74 65 6e 74 73 0a File 3 contents.\n",
      "\n",
      "\n"
     ]
    }
   ],
   "source": [
    "def dump_tar_as_hex_with_seek(tar_file_path, seek_offset=0, octets_per_line=16, columns_per_line=16):\n",
    "    with tarfile.open(tar_file_path, 'r') as tar:\n",
    "        for member in tar.getmembers():\n",
    "            print(f\"Dumping contents of {member.name} as hex (with seek):\")\n",
    "            with tar.extractfile(member) as file:\n",
    "                file.seek(seek_offset)\n",
    "                data = file.read()\n",
    "                offset = seek_offset\n",
    "                while data:\n",
    "                    chunk = data[:octets_per_line]\n",
    "                    hex_str = ' '.join(f'{byte:02x}' for byte in chunk)\n",
    "                    text_str = ''.join(chr(byte) if 32 <= byte <= 126 else '.' for byte in chunk)\n",
    "                    print(f'{offset:08x}: {hex_str.ljust(columns_per_line*3)} {text_str}')\n",
    "                    data = data[octets_per_line:]\n",
    "                    offset += octets_per_line\n",
    "            print('\\n')\n",
    "\n",
    "# Example usage:\n",
    "dump_tar_as_hex_with_seek('files.tar', seek_offset=0, octets_per_line=16, columns_per_line=4)\n"
   ]
  }
 ],
 "metadata": {
  "kernelspec": {
   "display_name": "Python 3",
   "language": "python",
   "name": "python3"
  },
  "language_info": {
   "codemirror_mode": {
    "name": "ipython",
    "version": 3
   },
   "file_extension": ".py",
   "mimetype": "text/x-python",
   "name": "python",
   "nbconvert_exporter": "python",
   "pygments_lexer": "ipython3",
   "version": "3.11.7"
  }
 },
 "nbformat": 4,
 "nbformat_minor": 2
}
