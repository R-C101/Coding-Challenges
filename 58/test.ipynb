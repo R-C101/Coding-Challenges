{
 "cells": [
  {
   "cell_type": "markdown",
   "metadata": {},
   "source": [
    "## STEP 1 create a master password and username authentication system"
   ]
  },
  {
   "cell_type": "code",
   "execution_count": 1,
   "metadata": {},
   "outputs": [],
   "source": [
    "import json\n",
    "import hashlib"
   ]
  },
  {
   "cell_type": "code",
   "execution_count": 2,
   "metadata": {},
   "outputs": [],
   "source": [
    "def hash_password(password):\n",
    "    \n",
    "    hashed_password = hashlib.sha256(password.encode()).hexdigest()\n",
    "    return hashed_password\n",
    "\n",
    "def save_master_password(username, password):\n",
    "    \n",
    "    try:\n",
    "        with open(\"master_passwords.json\", \"r\") as file:\n",
    "            data = json.load(file)\n",
    "    except FileNotFoundError:\n",
    "        data = {}\n",
    "\n",
    "   \n",
    "    hashed_password = hash_password(password)\n",
    "    \n",
    "    \n",
    "    data[username] = hashed_password\n",
    "\n",
    "    \n",
    "    with open(\"master_passwords.json\", \"w\") as file:\n",
    "        json.dump(data, file)\n",
    "\n",
    "def load_master_password(username):\n",
    "    try:\n",
    "        with open(\"master_passwords.json\", \"r\") as file:\n",
    "            data = json.load(file)\n",
    "            hashed_password = data.get(username)\n",
    "            return hashed_password\n",
    "    except FileNotFoundError:\n",
    "        return None"
   ]
  },
  {
   "cell_type": "code",
   "execution_count": 4,
   "metadata": {},
   "outputs": [
    {
     "name": "stdout",
     "output_type": "stream",
     "text": [
      "Master password found for user: Rishit\n"
     ]
    }
   ],
   "source": [
    "choice = input(\"Enter 1 to login to existing account, or 2 to sign up: \")\n",
    "if choice == \"1\":\n",
    "\n",
    "    username = input(\"Enter Master Username: \")\n",
    "    password = input(\"Enter Master password: \")\n",
    "    hashed_password = load_master_password(username)\n",
    "    if hashed_password == hash_password(password):\n",
    "        print(\"User found:\", username)\n",
    "    else:\n",
    "        print(\"Please Check your Username or Password and try again\")\n",
    "        password = input(\"Enter Master Password: \")\n",
    "\n",
    "   \n",
    "    save_master_password(username, password)\n",
    "    print(\"Master password set successfully.\")"
   ]
  }
 ],
 "metadata": {
  "kernelspec": {
   "display_name": "Python 3",
   "language": "python",
   "name": "python3"
  },
  "language_info": {
   "codemirror_mode": {
    "name": "ipython",
    "version": 3
   },
   "file_extension": ".py",
   "mimetype": "text/x-python",
   "name": "python",
   "nbconvert_exporter": "python",
   "pygments_lexer": "ipython3",
   "version": "3.11.7"
  }
 },
 "nbformat": 4,
 "nbformat_minor": 2
}
