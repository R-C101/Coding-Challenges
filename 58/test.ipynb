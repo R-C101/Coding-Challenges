{
 "cells": [
  {
   "cell_type": "markdown",
   "metadata": {},
   "source": [
    "## STEP 1 create a master password and username authentication system"
   ]
  },
  {
   "cell_type": "code",
   "execution_count": 1,
   "metadata": {},
   "outputs": [],
   "source": [
    "import json\n",
    "import hashlib"
   ]
  },
  {
   "cell_type": "code",
   "execution_count": 12,
   "metadata": {},
   "outputs": [],
   "source": [
    "def hash_password(password):\n",
    "    \n",
    "    hashed_password = hashlib.sha256(password.encode()).hexdigest()\n",
    "    return hashed_password\n",
    "\n",
    "def save_master_password(username, password):\n",
    "    \n",
    "    try:\n",
    "        with open(\"master_passwords.json\", \"r\") as file:\n",
    "            data = json.load(file)\n",
    "    except FileNotFoundError:\n",
    "        data = {}\n",
    "\n",
    "   \n",
    "    hashed_password = hash_password(password)\n",
    "    \n",
    "    \n",
    "    data[username] = hashed_password\n",
    "\n",
    "    \n",
    "    with open(\"master_passwords.json\", \"w\") as file:\n",
    "        json.dump(data, file)\n",
    "\n",
    "def load_master_password(username):\n",
    "    try:\n",
    "        with open(\"master_passwords.json\", \"r\") as file:\n",
    "            data = json.load(file)\n",
    "            hashed_password = data.get(username)\n",
    "            return hashed_password\n",
    "    except FileNotFoundError:\n",
    "        return None\n",
    "def username_exists(username):\n",
    "    try:\n",
    "        with open(\"master_passwords.json\", \"r\") as file:\n",
    "            data = json.load(file)\n",
    "            return username in data\n",
    "    except FileNotFoundError:\n",
    "        return False\n"
   ]
  },
  {
   "cell_type": "code",
   "execution_count": 13,
   "metadata": {},
   "outputs": [
    {
     "name": "stdout",
     "output_type": "stream",
     "text": [
      "Username already exists, please login or choose a different username\n",
      "User found: Sak\n"
     ]
    }
   ],
   "source": [
    "while True:    \n",
    "    choice = input(\"Enter 1 to login to existing account, or 2 to sign up: \")\n",
    "    if int(choice) == 1:\n",
    "\n",
    "        username = input(\"Enter Master Username: \")\n",
    "        password = input(\"Enter Master password: \")\n",
    "        hashed_password = load_master_password(username)\n",
    "        if hashed_password == hash_password(password):\n",
    "            print(\"User found:\", username)\n",
    "            break\n",
    "        else:\n",
    "            print(\"Please Check your Username or Password and try again\")\n",
    "    \n",
    "    if int(choice) == 2:\n",
    "        username = input(\"Enter New Master Username: \")\n",
    "        password = input(\"Enter New Master password: \")\n",
    "        if username_exists(username):\n",
    "            print(\"Username already exists, please login or choose a different username\")\n",
    "            continue \n",
    "        save_master_password(username, password)\n",
    "        print(\"User Created, please login again to continue\")"
   ]
  },
  {
   "cell_type": "markdown",
   "metadata": {},
   "source": [
    "## Step 2\n"
   ]
  },
  {
   "cell_type": "code",
   "execution_count": 14,
   "metadata": {},
   "outputs": [],
   "source": [
    "from cryptography.fernet import Fernet\n",
    "from cryptography.hazmat.backends import default_backend\n",
    "from cryptography.hazmat.primitives import hashes\n",
    "from cryptography.hazmat.primitives.kdf.pbkdf2 import PBKDF2HMAC\n",
    "import os\n",
    "def generate_key(password):\n",
    "\n",
    "    password = password.encode()\n",
    "\n",
    "\n",
    "    salt = password\n",
    "\n",
    "\n",
    "    kdf = PBKDF2HMAC(\n",
    "        algorithm=hashes.SHA256(),\n",
    "        length=32,\n",
    "        salt=salt,\n",
    "        iterations=100000,\n",
    "        backend=default_backend()\n",
    "    )\n",
    "    key = kdf.derive(password)\n",
    "    return key\n",
    "\n",
    "def encrypt_data(data, password):\n",
    "    key = generate_key(password)\n",
    "    f = Fernet(key)\n",
    "    encrypted_data = f.encrypt(data.encode())\n",
    "    return encrypted_data\n",
    "\n",
    "def decrypt_data(encrypted_data, password):\n",
    "    key = generate_key(password)\n",
    "    f = Fernet(key)\n",
    "    decrypted_data = f.decrypt(encrypted_data).decode()\n",
    "    return decrypted_data\n",
    "\n",
    "def read_json(filename):\n",
    "    if os.path.exists(filename):\n",
    "        with open(filename, 'r') as file:\n",
    "            data = json.load(file)\n",
    "    else:\n",
    "        data = []\n",
    "    return data\n",
    "\n",
    "def write_json(filename, data):\n",
    "    with open(filename, 'w') as file:\n",
    "        json.dump(data, file, indent=4)\n",
    "\n"
   ]
  },
  {
   "cell_type": "code",
   "execution_count": 16,
   "metadata": {},
   "outputs": [],
   "source": [
    "def add_credentials(masterusername, name, username, password):\n",
    "    filename = f'users/{masterusername}.json'\n",
    "    data = read_json(filename)\n",
    "    user = {'name': name, 'username': username, 'password': password}\n",
    "    data.append(user)\n",
    "    write_json(filename, data)\n",
    "    \n",
    "def delete_credentials(masterusername, username):\n",
    "    filename = f'users/{masterusername}.json'\n",
    "    data = read_json(filename)\n",
    "    data = [user for user in data if user['username'] != username]\n",
    "    write_json(filename, data)\n",
    "\n",
    "def update_credentials(masterusername, username, field, new_value):\n",
    "    filename = f'users/{masterusername}.json'\n",
    "    data = read_json(filename)\n",
    "    for user in data:\n",
    "        if user['username'] == username:\n",
    "            user[field] = new_value\n",
    "            break\n",
    "    write_json(filename, data)\n",
    "        "
   ]
  },
  {
   "cell_type": "code",
   "execution_count": null,
   "metadata": {},
   "outputs": [],
   "source": [
    "choice1 = input(\"Enter 1 to add credentials, 2 to delete credentials, 3 to update credentials, 4 to view credentials: \")\n",
    "if int(choice1) == 1:\n",
    "    name = input(\"Enter the name of the credential: \")\n",
    "    username = input(\"Enter the username: \")\n",
    "    password = input(\"Enter the password: \")\n",
    "    password = encrypt_data(password, masterpassword)\n",
    "    add_credentials(username, name, username, password)\n",
    "    print(\"Credentials added successfully\")\n",
    "elif int(choice1) == 2:\n",
    "    username = input(\"Enter the username of the credential you want to delete: \")\n",
    "    delete_credentials(masterusername, username)\n",
    "    print(\"Credentials deleted successfully\")\n",
    "elif int(choice1) == 3:\n",
    "    username = input(\"Enter the username of the credential you want to update: \")\n",
    "    field = input(\"Enter the field you want to update (name, username, password): \")\n",
    "    new_value = input(\"Enter the new value: \")\n",
    "    if field == 'password':\n",
    "        new_value = encrypt_data(new_value, masterpassword)\n",
    "    update_credentials(masterusername, username, field, new_value)\n",
    "    print(\"Credentials updated successfully\")"
   ]
  }
 ],
 "metadata": {
  "kernelspec": {
   "display_name": "Python 3",
   "language": "python",
   "name": "python3"
  },
  "language_info": {
   "codemirror_mode": {
    "name": "ipython",
    "version": 3
   },
   "file_extension": ".py",
   "mimetype": "text/x-python",
   "name": "python",
   "nbconvert_exporter": "python",
   "pygments_lexer": "ipython3",
   "version": "3.11.7"
  }
 },
 "nbformat": 4,
 "nbformat_minor": 2
}
